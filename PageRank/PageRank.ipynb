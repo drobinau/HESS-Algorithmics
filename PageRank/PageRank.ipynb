{
 "cells": [
  {
   "cell_type": "markdown",
   "metadata": {},
   "source": [
    "#### PageRank"
   ]
  },
  {
   "cell_type": "code",
   "execution_count": 1,
   "metadata": {},
   "outputs": [
    {
     "name": "stdout",
     "output_type": "stream",
     "text": [
      "PageRank:\n",
      "{0: 0.353616058371943, 1: 0.1521134292489269, 2: 0.1521134292489269, 3: 0.1521134292489269, 4: 0.09502182694063807, 5: 0.09502182694063807}\n",
      "\n",
      "Transition Matrix (row-normalized, dangling nodes handled):\n",
      "[[0.   0.33 0.33 0.33 0.   0.  ]\n",
      " [1.   0.   0.   0.   0.   0.  ]\n",
      " [1.   0.   0.   0.   0.   0.  ]\n",
      " [0.33 0.   0.   0.   0.33 0.33]\n",
      " [0.17 0.17 0.17 0.17 0.17 0.17]\n",
      " [0.17 0.17 0.17 0.17 0.17 0.17]]\n",
      "[[0.   1.   1.   0.33 0.17 0.17]\n",
      " [0.33 0.   0.   0.   0.17 0.17]\n",
      " [0.33 0.   0.   0.   0.17 0.17]\n",
      " [0.33 0.   0.   0.   0.17 0.17]\n",
      " [0.   0.   0.   0.33 0.17 0.17]\n",
      " [0.   0.   0.   0.33 0.17 0.17]]\n"
     ]
    },
    {
     "data": {
      "image/png": "[encoded data removed]",
      "text/plain": [
       "<Figure size 432x288 with 1 Axes>"
      ]
     },
     "metadata": {},
     "output_type": "display_data"
    }
   ],
   "source": [
    "import networkx as nx\n",
    "import matplotlib.pyplot as plt\n",
    "import numpy as np\n",
    "\n",
    "# Define the adjacency matrix\n",
    "A = np.array([\n",
    "    [0, 1, 1, 1, 0, 0],\n",
    "    [1, 0, 0, 0, 0, 0],\n",
    "    [1, 0, 0, 0, 0, 0],\n",
    "    [1, 0, 0, 0, 1, 1],\n",
    "    [0, 0, 0, 0, 0, 0],  # Dangling node\n",
    "    [0, 0, 0, 0, 0, 0]   # Dangling node\n",
    "])\n",
    "\n",
    "# Create directed graph\n",
    "G = nx.from_numpy_array(A, create_using=nx.DiGraph)\n",
    "\n",
    "# Draw the graph\n",
    "labels = {i: chr(97 + i) for i in range(len(A))}  # 'a', 'b', ...\n",
    "nx.draw(G, labels=labels, with_labels=True, node_size=1000, arrows=True)\n",
    "plt.title(\"Flight Routes\")\n",
    "\n",
    "# Print PageRank\n",
    "print(\"PageRank:\")\n",
    "print(nx.pagerank(G))\n",
    "\n",
    "# Compute transition matrix\n",
    "N = A.shape[0]\n",
    "T = A.astype(float) # It is needed. \n",
    "row_sums = T.sum(axis=1)\n",
    "\n",
    "# Replace rows with all zeros (dangling nodes) with 1/N for each entry\n",
    "for i in range(N):\n",
    "    if row_sums[i] == 0:\n",
    "        T[i] = np.ones(N) / N\n",
    "    else:\n",
    "        T[i] /= row_sums[i]\n",
    "\n",
    "print(\"\\nTransition Matrix (row-normalized, dangling nodes handled):\")\n",
    "print(np.round(T, 2))\n",
    "print(np.round(T.T, 2))\n",
    "plt.show()"
   ]
  }
 ],
 "metadata": {
  "kernelspec": {
   "display_name": "Python 3",
   "language": "python",
   "name": "python3"
  },
  "language_info": {
   "codemirror_mode": {
    "name": "ipython",
    "version": 3
   },
   "file_extension": ".py",
   "mimetype": "text/x-python",
   "name": "python",
   "nbconvert_exporter": "python",
   "pygments_lexer": "ipython3",
   "version": "3.8.3"
  }
 },
 "nbformat": 4,
 "nbformat_minor": 4
}
