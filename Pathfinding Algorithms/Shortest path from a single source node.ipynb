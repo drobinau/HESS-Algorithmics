{
 "cells": [
  {
   "cell_type": "markdown",
   "metadata": {},
   "source": [
    "#### Bellman and Dijkstra's Algorithms"
   ]
  },
  {
   "cell_type": "code",
   "execution_count": 2,
   "metadata": {},
   "outputs": [
    {
     "name": "stdout",
     "output_type": "stream",
     "text": [
      "Bellman-Ford Shortest distances from node 0: [0, -1, 2, -2, 1]\n",
      "Dijkstra's Shortest distances from node 0: {0: 0, 1: -1, 2: 2, 3: -2, 4: 1}\n"
     ]
    },
    {
     "data": {
      "image/png": "[encoded data removed]",
      "text/plain": [
       "<Figure size 432x288 with 1 Axes>"
      ]
     },
     "metadata": {},
     "output_type": "display_data"
    }
   ],
   "source": [
    "import networkx as nx\n",
    "import matplotlib.pyplot as plt\n",
    "import heapq\n",
    "\n",
    "def create_graph(vertices):\n",
    "    edges = []\n",
    "    adj_list = {i: [] for i in range(vertices)}\n",
    "    return {\"V\": vertices, \"edges\": edges, \"adj_list\": adj_list}\n",
    "\n",
    "def add_edge(graph, u, v, weight):\n",
    "    graph[\"edges\"].append((u, v, weight))\n",
    "    graph[\"adj_list\"][u].append((v, weight))\n",
    "\n",
    "def bellman_ford(graph, source):\n",
    "    V = graph[\"V\"]\n",
    "    edges = graph[\"edges\"]\n",
    "    dist = [float('inf')] * V\n",
    "    dist[source] = 0\n",
    "\n",
    "    for _ in range(V - 1):\n",
    "        for u, v, w in edges:\n",
    "            if dist[u] != float('inf') and dist[u] + w < dist[v]:\n",
    "                dist[v] = dist[u] + w\n",
    "\n",
    "    for u, v, w in edges:\n",
    "        if dist[u] != float('inf') and dist[u] + w < dist[v]:\n",
    "            print(\"⚠ Graph contains a negative-weight cycle\")\n",
    "            return None\n",
    "\n",
    "    return dist\n",
    "\n",
    "def dijkstra(graph, source):\n",
    "    V = graph[\"V\"]\n",
    "    adj_list = graph[\"adj_list\"]\n",
    "    dist = {i: float('inf') for i in range(V)}\n",
    "    dist[source] = 0\n",
    "\n",
    "    pq = [(0, source)]\n",
    "\n",
    "    while pq:\n",
    "        current_dist, u = heapq.heappop(pq)\n",
    "\n",
    "        if current_dist > dist[u]:\n",
    "            continue\n",
    "\n",
    "        for v, weight in adj_list[u]:\n",
    "            new_dist = dist[u] + weight\n",
    "            if new_dist < dist[v]:\n",
    "                dist[v] = new_dist\n",
    "                heapq.heappush(pq, (new_dist, v))\n",
    "\n",
    "    return dist\n",
    "\n",
    "def draw_graph(graph):\n",
    "    G = nx.DiGraph()\n",
    "    for u, v, w in graph[\"edges\"]:\n",
    "        G.add_edge(u, v, weight=w)\n",
    "\n",
    "    pos = nx.shell_layout(G)\n",
    "    edge_labels = {(u, v): w for u, v, w in graph[\"edges\"]}\n",
    "\n",
    "    nx.draw(G, pos, with_labels=True, node_color='lightblue', node_size=500,\n",
    "            font_size=10, font_weight='bold', arrows=True)\n",
    "    nx.draw_networkx_edge_labels(G, pos, edge_labels=edge_labels)\n",
    "\n",
    "    plt.title(\"Graph Visualisation\")\n",
    "    plt.show()\n",
    "\n",
    "\n",
    "# Example Usage\n",
    "graph = create_graph(5)\n",
    "\n",
    "add_edge(graph, 0, 1, -1)\n",
    "add_edge(graph, 0, 2, 4)\n",
    "add_edge(graph, 1, 2, 3)\n",
    "add_edge(graph, 1, 3, 2)\n",
    "add_edge(graph, 1, 4, 2)\n",
    "add_edge(graph, 3, 2, 5)\n",
    "add_edge(graph, 3, 1, 1)\n",
    "add_edge(graph, 4, 3, -3)\n",
    "\n",
    "source = 0\n",
    "\n",
    "# Bellman-Ford\n",
    "bf_result = bellman_ford(graph, source)\n",
    "if bf_result:\n",
    "    print(f\"Bellman-Ford Shortest distances from node {source}: {bf_result}\")\n",
    "\n",
    "# Dijkstra\n",
    "dijkstra_result = dijkstra(graph, source)\n",
    "if dijkstra_result:\n",
    "    print(f\"Dijkstra's Shortest distances from node {source}: {dijkstra_result}\")\n",
    "\n",
    "# Draw graph\n",
    "draw_graph(graph)\n",
    "\n"
   ]
  }
 ],
 "metadata": {
  "kernelspec": {
   "display_name": "Python 3",
   "language": "python",
   "name": "python3"
  },
  "language_info": {
   "codemirror_mode": {
    "name": "ipython",
    "version": 3
   },
   "file_extension": ".py",
   "mimetype": "text/x-python",
   "name": "python",
   "nbconvert_exporter": "python",
   "pygments_lexer": "ipython3",
   "version": "3.8.3"
  }
 },
 "nbformat": 4,
 "nbformat_minor": 4
}
