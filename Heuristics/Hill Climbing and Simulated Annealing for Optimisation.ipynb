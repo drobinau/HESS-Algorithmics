{
 "cells": [
  {
   "cell_type": "markdown",
   "metadata": {},
   "source": [
    "We want to maximise the function \n",
    "$$\n",
    "f(x) = -(x-7)^2+49\n",
    "$$\n",
    "This function has its maximum when $x=7$, and gives a hill-shaped curve. We'll use two different heuristic search methods to find that peak. "
   ]
  },
  {
   "cell_type": "markdown",
   "metadata": {},
   "source": [
    "#### Hill Climbing \n",
    "Hill climbing is like climbing a hill blindfolded: you feel around the move to a better neighbour (higher point), step by step. "
   ]
  },
  {
   "cell_type": "markdown",
   "metadata": {},
   "source": [
    "##### Pseudocode "
   ]
  },
  {
   "cell_type": "markdown",
   "metadata": {},
   "source": [
    "Start at x\n",
    "While there is a better neighbor:\n",
    "    Move to the neighbor with highest value\n",
    "Return current x as the peak\n"
   ]
  },
  {
   "cell_type": "markdown",
   "metadata": {},
   "source": [
    "##### Python code "
   ]
  },
  {
   "cell_type": "code",
   "execution_count": 1,
   "metadata": {},
   "outputs": [
    {
     "name": "stdout",
     "output_type": "stream",
     "text": [
      "At x=3, f(x)=33\n",
      "At x=4, f(x)=40\n",
      "At x=5, f(x)=45\n",
      "At x=6, f(x)=48\n",
      "At x=7, f(x)=49\n",
      "Reached peak!\n"
     ]
    },
    {
     "data": {
      "text/plain": [
       "7"
      ]
     },
     "execution_count": 1,
     "metadata": {},
     "output_type": "execute_result"
    }
   ],
   "source": [
    "def f(x):\n",
    "    return -(x - 7)**2 + 49\n",
    "\n",
    "def hill_climb_iterative(start):\n",
    "    x = start\n",
    "    while True:\n",
    "        print(f\"At x={x}, f(x)={f(x)}\")\n",
    "        neighbors = [x - 1, x + 1]\n",
    "        best_neighbor = x\n",
    "\n",
    "        for nx in neighbors:\n",
    "            if 0 <= nx <= 15 and f(nx) > f(best_neighbor):\n",
    "                best_neighbor = nx\n",
    "\n",
    "        if best_neighbor == x:\n",
    "            print(\"Reached peak!\")\n",
    "            return x\n",
    "        else:\n",
    "            x = best_neighbor\n",
    "\n",
    "hill_climb_iterative(3)\n"
   ]
  },
  {
   "cell_type": "code",
   "execution_count": 3,
   "metadata": {},
   "outputs": [
    {
     "name": "stdout",
     "output_type": "stream",
     "text": [
      "Reached peak at x = 7, f(x) = 49\n"
     ]
    },
    {
     "data": {
      "image/png": "[encoded data removed]",
      "text/plain": [
       "<Figure size 720x432 with 1 Axes>"
      ]
     },
     "metadata": {
      "needs_background": "light"
     },
     "output_type": "display_data"
    }
   ],
   "source": [
    "import matplotlib.pyplot as plt\n",
    "import numpy as np\n",
    "\n",
    "# Objective function\n",
    "def f(x):\n",
    "    return -(x - 7)**2 + 49\n",
    "\n",
    "# Hill climbing with visualization\n",
    "def hill_climb_visual(start):\n",
    "    x = start\n",
    "    path = [x]\n",
    "\n",
    "    while True:\n",
    "        neighbors = [x - 1, x + 1]\n",
    "        best_neighbor = x\n",
    "\n",
    "        for nx in neighbors:\n",
    "            if 0 <= nx <= 15 and f(nx) > f(best_neighbor):\n",
    "                best_neighbor = nx\n",
    "\n",
    "        if best_neighbor == x:\n",
    "            print(f\"Reached peak at x = {x}, f(x) = {f(x)}\")\n",
    "            break\n",
    "        else:\n",
    "            x = best_neighbor\n",
    "            path.append(x)\n",
    "\n",
    "    # Plotting\n",
    "    X = np.linspace(0, 15, 300)\n",
    "    Y = f(X)\n",
    "\n",
    "    plt.figure(figsize=(10, 6))\n",
    "    plt.plot(X, Y, label='f(x)', color='blue')\n",
    "    plt.scatter(path, [f(xi) for xi in path], color='red', zorder=5, label='Path taken')\n",
    "    for i, xi in enumerate(path):\n",
    "        plt.annotate(f'{i}', (xi, f(xi)), textcoords=\"offset points\", xytext=(0,5), ha='center')\n",
    "\n",
    "    plt.title('Hill Climbing Path Visualisation')\n",
    "    plt.xlabel('x')\n",
    "    plt.ylabel('f(x)')\n",
    "    plt.legend()\n",
    "    plt.grid(True)\n",
    "    plt.show()\n",
    "\n",
    "hill_climb_visual(3)"
   ]
  },
  {
   "cell_type": "markdown",
   "metadata": {},
   "source": [
    "#### Simulated Annealing\n",
    "When you cool metal, at high temperature its atoms can move freely, exploring many configurations (even \"bad\" ones, with higher energy) before settling. This helps avoid getting stuck in a bad arrangement. As you cool, the atoms settle into the best (lowest energy) arrangement. Inspired by metal cooling: sometimes we accept \"bad moves\" to escape local maxima and explore better global solutions. In simulated annealing, we allow worse solutions with a probability based on a \"temperature\" that slowly cools down. "
   ]
  },
  {
   "cell_type": "markdown",
   "metadata": {},
   "source": [
    "##### Pseudocode"
   ]
  },
  {
   "cell_type": "markdown",
   "metadata": {},
   "source": [
    "Start at x with high temperature\n",
    "While temperature is still warm:\n",
    "    Pick a random neighbor\n",
    "    If it's better → move there\n",
    "    If it's worse → maybe move (probabilistic)\n",
    "    Cool the temperature\n",
    "Return current x\n"
   ]
  },
  {
   "cell_type": "markdown",
   "metadata": {},
   "source": [
    "##### Python code"
   ]
  },
  {
   "cell_type": "code",
   "execution_count": 4,
   "metadata": {},
   "outputs": [
    {
     "name": "stdout",
     "output_type": "stream",
     "text": [
      "At x=0, f(x)=0, T=10.00\n",
      "At x=0, f(x)=0, T=9.00\n",
      "At x=0, f(x)=0, T=8.10\n",
      "At x=0, f(x)=0, T=7.29\n",
      "At x=0, f(x)=0, T=6.56\n",
      "At x=1, f(x)=13, T=5.90\n",
      "At x=2, f(x)=24, T=5.31\n",
      "At x=2, f(x)=24, T=4.78\n",
      "At x=2, f(x)=24, T=4.30\n",
      "At x=2, f(x)=24, T=3.87\n",
      "At x=2, f(x)=24, T=3.49\n",
      "At x=2, f(x)=24, T=3.14\n",
      "At x=2, f(x)=24, T=2.82\n",
      "At x=3, f(x)=33, T=2.54\n",
      "At x=3, f(x)=33, T=2.29\n",
      "At x=4, f(x)=40, T=2.06\n",
      "At x=4, f(x)=40, T=1.85\n",
      "At x=5, f(x)=45, T=1.67\n",
      "At x=6, f(x)=48, T=1.50\n",
      "At x=6, f(x)=48, T=1.35\n",
      "At x=6, f(x)=48, T=1.22\n",
      "At x=7, f(x)=49, T=1.09\n",
      "At x=7, f(x)=49, T=0.98\n",
      "At x=7, f(x)=49, T=0.89\n",
      "At x=8, f(x)=48, T=0.80\n",
      "At x=8, f(x)=48, T=0.72\n",
      "At x=8, f(x)=48, T=0.65\n",
      "At x=8, f(x)=48, T=0.58\n",
      "At x=8, f(x)=48, T=0.52\n",
      "At x=7, f(x)=49, T=0.47\n",
      "At x=7, f(x)=49, T=0.42\n",
      "At x=7, f(x)=49, T=0.38\n",
      "At x=7, f(x)=49, T=0.34\n",
      "At x=7, f(x)=49, T=0.31\n",
      "At x=7, f(x)=49, T=0.28\n",
      "At x=7, f(x)=49, T=0.25\n",
      "At x=7, f(x)=49, T=0.23\n",
      "At x=7, f(x)=49, T=0.20\n",
      "At x=7, f(x)=49, T=0.18\n",
      "At x=7, f(x)=49, T=0.16\n",
      "At x=7, f(x)=49, T=0.15\n",
      "At x=7, f(x)=49, T=0.13\n",
      "At x=7, f(x)=49, T=0.12\n",
      "At x=7, f(x)=49, T=0.11\n",
      "Cooling finished.\n"
     ]
    },
    {
     "data": {
      "text/plain": [
       "7"
      ]
     },
     "execution_count": 4,
     "metadata": {},
     "output_type": "execute_result"
    }
   ],
   "source": [
    "import random\n",
    "import math\n",
    "\n",
    "def f(x):\n",
    "    return -(x - 7)**2 + 49\n",
    "\n",
    "def simulated_annealing_iterative(start, temperature):\n",
    "    x = start\n",
    "\n",
    "    while temperature > 0.1:\n",
    "        print(f\"At x={x}, f(x)={f(x)}, T={temperature:.2f}\")\n",
    "        nx = x + random.choice([-1, 1])\n",
    "        if not 0 <= nx <= 15:\n",
    "            temperature *= 0.9\n",
    "            continue\n",
    "\n",
    "        delta = f(nx) - f(x)\n",
    "        if delta > 0 or random.random() < math.exp(delta / temperature):\n",
    "            x = nx\n",
    "\n",
    "        temperature *= 0.9\n",
    "\n",
    "    print(\"Cooling finished.\")\n",
    "    return x\n",
    "\n",
    "simulated_annealing_iterative(0, 10)\n"
   ]
  },
  {
   "cell_type": "code",
   "execution_count": 10,
   "metadata": {},
   "outputs": [
    {
     "name": "stdout",
     "output_type": "stream",
     "text": [
      "Finished at x=7, f(x)=49\n",
      "[0, 1, 2, 3, 4, 5, 6, 7, 8, 7, 6, 7]\n",
      "[0, 13, 24, 33, 40, 45, 48, 49, 48, 49, 48, 49]\n"
     ]
    },
    {
     "data": {
      "image/png": "[encoded data removed]",
      "text/plain": [
       "<Figure size 720x432 with 1 Axes>"
      ]
     },
     "metadata": {
      "needs_background": "light"
     },
     "output_type": "display_data"
    }
   ],
   "source": [
    "import random\n",
    "import math\n",
    "import matplotlib.pyplot as plt\n",
    "import numpy as np\n",
    "\n",
    "# Objective function\n",
    "def f(x):\n",
    "    return -(x - 7)**2 + 49\n",
    "\n",
    "# Simulated annealing with path visualization\n",
    "def simulated_annealing_visual(start, temperature):\n",
    "    x = start\n",
    "    path = [(x, f(x))]\n",
    "\n",
    "    while temperature > 0.1:\n",
    "        nx = x + random.choice([-1, 1])\n",
    "        if not 0 <= nx <= 15:\n",
    "            temperature *= 0.9\n",
    "            continue\n",
    "\n",
    "        delta = f(nx) - f(x)\n",
    "        # Accept move if better or probabilistically\n",
    "        if delta > 0 or random.random() < math.exp(delta / temperature):\n",
    "            x = nx\n",
    "            path.append((x, f(x)))\n",
    "\n",
    "        temperature *= 0.9\n",
    "\n",
    "    print(f\"Finished at x={x}, f(x)={f(x)}\")\n",
    "    \n",
    "    # Plotting\n",
    "    X = np.linspace(0, 15, 300)\n",
    "    Y = f(X)\n",
    "\n",
    "    plt.figure(figsize=(10, 6))\n",
    "    plt.plot(X, Y, label='f(x)', color='blue')\n",
    "    \n",
    "    path_x = [p[0] for p in path]\n",
    "    path_y = [p[1] for p in path]\n",
    "    print(path_x)\n",
    "    print(path_y)\n",
    "    \n",
    "    plt.scatter(path_x, path_y, color='orange', zorder=5, label='Path taken')\n",
    "    \n",
    "    for i, (xi, yi) in enumerate(path):\n",
    "        plt.annotate(f'{i}', (xi, yi), textcoords=\"offset points\", xytext=(0,5), ha='center', fontsize=8)\n",
    "    \n",
    "    plt.title('Simulated Annealing Path Visualisation')\n",
    "    plt.xlabel('x')\n",
    "    plt.ylabel('f(x)')\n",
    "    plt.legend()\n",
    "    plt.grid(True)\n",
    "    plt.show()\n",
    "\n",
    "# Run it\n",
    "simulated_annealing_visual(0, 10)"
   ]
  }
 ],
 "metadata": {
  "kernelspec": {
   "display_name": "Python 3",
   "language": "python",
   "name": "python3"
  },
  "language_info": {
   "codemirror_mode": {
    "name": "ipython",
    "version": 3
   },
   "file_extension": ".py",
   "mimetype": "text/x-python",
   "name": "python",
   "nbconvert_exporter": "python",
   "pygments_lexer": "ipython3",
   "version": "3.8.3"
  }
 },
 "nbformat": 4,
 "nbformat_minor": 4
}
