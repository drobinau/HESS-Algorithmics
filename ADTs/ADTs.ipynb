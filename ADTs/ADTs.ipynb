{
 "cells": [
  {
   "cell_type": "markdown",
   "metadata": {},
   "source": [
    "#### A queue"
   ]
  },
  {
   "cell_type": "code",
   "execution_count": 4,
   "metadata": {},
   "outputs": [
    {
     "name": "stdout",
     "output_type": "stream",
     "text": [
      "Dequeuing elements in FIFO order:\n",
      "Processing A\n",
      "Processing B\n",
      "Processing C\n"
     ]
    }
   ],
   "source": [
    "from collections import deque\n",
    "\n",
    "# Create an empty queue\n",
    "queue = deque()\n",
    "\n",
    "# Enqueue elements (add to the back)\n",
    "queue.append(\"A\")\n",
    "queue.append(\"B\")\n",
    "queue.append(\"C\")\n",
    "\n",
    "# Dequeue elements (remove from the front)\n",
    "print(\"Dequeuing elements in FIFO order:\")\n",
    "while queue:\n",
    "    item = queue.popleft()\n",
    "    print(f\"Processing {item}\")\n"
   ]
  },
  {
   "cell_type": "markdown",
   "metadata": {},
   "source": [
    "#### A priority queue"
   ]
  },
  {
   "cell_type": "code",
   "execution_count": 1,
   "metadata": {},
   "outputs": [
    {
     "name": "stdout",
     "output_type": "stream",
     "text": [
      "Dequeuing elements in priority order:\n",
      "Processing Task 1 with priority 1\n",
      "Processing Task 2 with priority 2\n",
      "Processing Task 3 with priority 3\n"
     ]
    }
   ],
   "source": [
    "import heapq\n",
    "\n",
    "# Step 1: Create an empty priority queue (min-heap)\n",
    "pq = []\n",
    "\n",
    "# Step 2: Push elements into the priority queue (enqueue)\n",
    "heapq.heappush(pq, (3, \"Task 3\"))  # (priority, value)\n",
    "heapq.heappush(pq, (1, \"Task 1\"))  \n",
    "heapq.heappush(pq, (2, \"Task 2\"))\n",
    "\n",
    "# Step 3: Pop elements from the priority queue (dequeue)\n",
    "print(\"Dequeuing elements in priority order:\")\n",
    "while pq:\n",
    "    priority, task = heapq.heappop(pq)  # Remove and return the smallest element\n",
    "    print(f\"Processing {task} with priority {priority}\")\n"
   ]
  },
  {
   "cell_type": "markdown",
   "metadata": {},
   "source": [
    "#### A stack "
   ]
  },
  {
   "cell_type": "code",
   "execution_count": 3,
   "metadata": {},
   "outputs": [
    {
     "name": "stdout",
     "output_type": "stream",
     "text": [
      "Popping elements in LIFO order:\n",
      "Item C\n",
      "Item B\n",
      "Item A\n"
     ]
    }
   ],
   "source": [
    "stack = []\n",
    "\n",
    "# Push items onto the stack\n",
    "stack.append(\"Item A\")\n",
    "stack.append(\"Item B\")\n",
    "stack.append(\"Item C\")\n",
    "\n",
    "# Pop items from the stack (LIFO)\n",
    "print(\"Popping elements in LIFO order:\")\n",
    "while stack:\n",
    "    print(stack.pop())\n"
   ]
  }
 ],
 "metadata": {
  "kernelspec": {
   "display_name": "Python 3",
   "language": "python",
   "name": "python3"
  },
  "language_info": {
   "codemirror_mode": {
    "name": "ipython",
    "version": 3
   },
   "file_extension": ".py",
   "mimetype": "text/x-python",
   "name": "python",
   "nbconvert_exporter": "python",
   "pygments_lexer": "ipython3",
   "version": "3.8.3"
  }
 },
 "nbformat": 4,
 "nbformat_minor": 4
}
